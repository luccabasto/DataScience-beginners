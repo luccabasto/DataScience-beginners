{
 "cells": [
  {
   "cell_type": "markdown",
   "metadata": {},
   "source": [
    "Um franquia de restaurantes populares que oferece uma ampla variedade de pratos de culinária francesa e italiana me passou uma demanda para anilisar os dados das vendas de 'Ratatouille' no 2° semestre de 2023."
   ]
  },
  {
   "cell_type": "code",
   "execution_count": 4,
   "metadata": {},
   "outputs": [
    {
     "data": {
      "text/html": [
       "<div>\n",
       "<style scoped>\n",
       "    .dataframe tbody tr th:only-of-type {\n",
       "        vertical-align: middle;\n",
       "    }\n",
       "\n",
       "    .dataframe tbody tr th {\n",
       "        vertical-align: top;\n",
       "    }\n",
       "\n",
       "    .dataframe thead th {\n",
       "        text-align: right;\n",
       "    }\n",
       "</style>\n",
       "<table border=\"1\" class=\"dataframe\">\n",
       "  <thead>\n",
       "    <tr style=\"text-align: right;\">\n",
       "      <th></th>\n",
       "      <th>id</th>\n",
       "      <th>data</th>\n",
       "      <th>produto</th>\n",
       "      <th>valor</th>\n",
       "      <th>metodo_pagamento</th>\n",
       "    </tr>\n",
       "  </thead>\n",
       "  <tbody>\n",
       "    <tr>\n",
       "      <th>0</th>\n",
       "      <td>2720</td>\n",
       "      <td>2023-07-01</td>\n",
       "      <td>Risoto de Funghi</td>\n",
       "      <td>13.0</td>\n",
       "      <td>Cartão de Débito</td>\n",
       "    </tr>\n",
       "    <tr>\n",
       "      <th>1</th>\n",
       "      <td>2721</td>\n",
       "      <td>2023-07-02</td>\n",
       "      <td>Tiramisù</td>\n",
       "      <td>10.0</td>\n",
       "      <td>Cartão de Débito</td>\n",
       "    </tr>\n",
       "    <tr>\n",
       "      <th>2</th>\n",
       "      <td>2722</td>\n",
       "      <td>2023-07-02</td>\n",
       "      <td>Tiramisù</td>\n",
       "      <td>10.0</td>\n",
       "      <td>Cartão de Crédito</td>\n",
       "    </tr>\n",
       "    <tr>\n",
       "      <th>3</th>\n",
       "      <td>2723</td>\n",
       "      <td>2023-07-02</td>\n",
       "      <td>Ratatouille</td>\n",
       "      <td>8.5</td>\n",
       "      <td>PIX</td>\n",
       "    </tr>\n",
       "    <tr>\n",
       "      <th>4</th>\n",
       "      <td>2724</td>\n",
       "      <td>2023-07-03</td>\n",
       "      <td>Ratatouille</td>\n",
       "      <td>8.5</td>\n",
       "      <td>Dinheiro</td>\n",
       "    </tr>\n",
       "  </tbody>\n",
       "</table>\n",
       "</div>"
      ],
      "text/plain": [
       "     id        data           produto  valor   metodo_pagamento\n",
       "0  2720  2023-07-01  Risoto de Funghi   13.0   Cartão de Débito\n",
       "1  2721  2023-07-02          Tiramisù   10.0   Cartão de Débito\n",
       "2  2722  2023-07-02          Tiramisù   10.0  Cartão de Crédito\n",
       "3  2723  2023-07-02       Ratatouille    8.5                PIX\n",
       "4  2724  2023-07-03       Ratatouille    8.5           Dinheiro"
      ]
     },
     "execution_count": 4,
     "metadata": {},
     "output_type": "execute_result"
    }
   ],
   "source": [
    "import pandas as pd\n",
    "\n",
    "sales_2semestre = pd.read_csv(\"serenatto_2sem_2023.csv\")\n",
    "sales_2semestre.head()"
   ]
  },
  {
   "cell_type": "markdown",
   "metadata": {},
   "source": [
    "Para a análise, foram pedidos duas ações:\n",
    "* Somatório de todas as vendas de 'Ratatouille' do período;\n",
    "* Frequência dos métodos de pagamentos para o 'Ratatouille'."
   ]
  },
  {
   "cell_type": "code",
   "execution_count": 5,
   "metadata": {},
   "outputs": [
    {
     "data": {
      "text/plain": [
       "np.float64(323.0)"
      ]
     },
     "execution_count": 5,
     "metadata": {},
     "output_type": "execute_result"
    }
   ],
   "source": [
    "somatorio_vendas = sales_2semestre.query(\"produto == 'Ratatouille' \").valor.sum()\n",
    "somatorio_vendas"
   ]
  },
  {
   "cell_type": "code",
   "execution_count": 6,
   "metadata": {},
   "outputs": [
    {
     "data": {
      "text/plain": [
       "metodo_pagamento\n",
       "PIX                  13\n",
       "Cartão de Débito     10\n",
       "Dinheiro              9\n",
       "Cartão de Crédito     6\n",
       "Name: count, dtype: int64"
      ]
     },
     "execution_count": 6,
     "metadata": {},
     "output_type": "execute_result"
    }
   ],
   "source": [
    "freq_metod_pag = sales_2semestre.query(\"produto == 'Ratatouille' \").metodo_pagamento.value_counts()\n",
    "freq_metod_pag"
   ]
  },
  {
   "cell_type": "code",
   "execution_count": 7,
   "metadata": {},
   "outputs": [
    {
     "name": "stdout",
     "output_type": "stream",
     "text": [
      "A venda de Ratatouille dentro do período foram de R$323.0\n",
      "\n",
      "Os métodos de pagamento utilizados: \n",
      "metodo_pagamento\n",
      "PIX                  13\n",
      "Cartão de Débito     10\n",
      "Dinheiro              9\n",
      "Cartão de Crédito     6\n",
      "Name: count, dtype: int64\n"
     ]
    }
   ],
   "source": [
    "print(f\"A venda de Ratatouille dentro do período foram de R${somatorio_vendas}\")\n",
    "print(f\"\\nOs métodos de pagamento utilizados: \\n{freq_metod_pag}\")"
   ]
  },
  {
   "cell_type": "markdown",
   "metadata": {},
   "source": [
    "Moral da história:\n",
    "* Utilizando a função <code> .sum() </code> para extrair o somatório das vendas (colum valor). \n",
    "* Utilizando a função <code> .value_counts() </code> para ter a quantidade total dos métodos de pagamento utilizado para aquele prato.<br>\n",
    "  <sub>  obs: Consigo adentrar dentro de uma coluna específica e extrair o value_counts() apenas dela. </sub>"
   ]
  }
 ],
 "metadata": {
  "kernelspec": {
   "display_name": "Python 3",
   "language": "python",
   "name": "python3"
  },
  "language_info": {
   "codemirror_mode": {
    "name": "ipython",
    "version": 3
   },
   "file_extension": ".py",
   "mimetype": "text/x-python",
   "name": "python",
   "nbconvert_exporter": "python",
   "pygments_lexer": "ipython3",
   "version": "3.12.3"
  }
 },
 "nbformat": 4,
 "nbformat_minor": 2
}
