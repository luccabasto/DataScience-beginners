{
 "cells": [
  {
   "cell_type": "markdown",
   "id": "bc1b1840-a3ee-4f07-a19a-3ebb7cc64902",
   "metadata": {},
   "source": [
    "<code>Próximo dia:</code>\n",
    "\n",
    "Onde parei? **Remover os Outliers** \n",
    "\n",
    "<hr>\n",
    "\n",
    "### 29/07 \n",
    "\n",
    "O que eu fiz hoje? \n",
    "* Configuração do Anaconda + ajustes de lib (seaborn, matplot e scikit-learn)\n",
    "* Separarei os dados em variáveis Quantitativas e Qualitativas (categóricas e numéricas).\n",
    "* Visualização inicial de cada columns.\n"
   ]
  }
 ],
 "metadata": {
  "kernelspec": {
   "display_name": "Python 3 (ipykernel)",
   "language": "python",
   "name": "python3"
  },
  "language_info": {
   "codemirror_mode": {
    "name": "ipython",
    "version": 3
   },
   "file_extension": ".py",
   "mimetype": "text/x-python",
   "name": "python",
   "nbconvert_exporter": "python",
   "pygments_lexer": "ipython3",
   "version": "3.12.3"
  },
  "widgets": {
   "application/vnd.jupyter.widget-state+json": {
    "state": {},
    "version_major": 2,
    "version_minor": 0
   }
  }
 },
 "nbformat": 4,
 "nbformat_minor": 5
}
